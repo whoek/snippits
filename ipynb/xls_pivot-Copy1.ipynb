{
 "cells": [
  {
   "cell_type": "code",
   "execution_count": 39,
   "metadata": {},
   "outputs": [],
   "source": [
    "import xlsxwriter\n",
    "\n",
    "workbook = xlsxwriter.Workbook(r'C:\\data\\tmp\\test_file.xlsxr')\n",
    "worksheet = workbook.add_worksheet()\n",
    "expenses = (\n",
    "    [\"Rent\", 1000],\n",
    "    [\"Gas\", 100],\n",
    "    [\"Food\", 300],\n",
    "    [\"Gym\", 50],\n",
    "    [\"Willem\", 50],\n",
    ")\n",
    "\n",
    "row = 1\n",
    "col = 1\n",
    "\n",
    "worksheet.write(row, col, \"Type\")  # row, col, value\n",
    "worksheet.write(row, col + 1, \"Value\")  # row, col, value\n",
    "\n",
    "row += 1\n",
    "for item, cost in expenses:\n",
    "    worksheet.write(row, col, item)\n",
    "    worksheet.write(row, col + 1, cost)\n",
    "    row += 1\n",
    "\n",
    "worksheet.write(row, 1, \"Total\")\n",
    "worksheet.write(row, 2, \"=SUM(C3:C7)\")\n",
    "worksheet.write('E1', 'Hello World') \n",
    "\n",
    "workbook.close()"
   ]
  },
  {
   "cell_type": "code",
   "execution_count": null,
   "metadata": {},
   "outputs": [],
   "source": [
    "import win32com.client as win32\n",
    "\n",
    "excel = win32.gencache.EnsureDispatch(\"Excel.Application\")\n",
    "excel.Visible = True\n",
    "\n",
    "wb = excel.Workbooks.Open(r'C:\\data\\tmp\\test_file.xlsxr')\n",
    "ws = wb.Sheets(\"Sheet1\")\n",
    "\n",
    "xldata = ws.UsedRange.Value  # pull all data into memory\n",
    "for row in xldata:\n",
    "    print(row)\n",
    "\n",
    "print(\"..tis working...\")\n",
    "\n",
    "del wb\n",
    "del excel\n",
    "# del win32c"
   ]
  },
  {
   "cell_type": "raw",
   "execution_count": null,
   "metadata": {},
   "outputs": [],
   "source": [
    "\n",
    "Python Excel options\n",
    "\n",
    "\n",
    "Documentation\n",
    "Source Code: \n",
    "\n",
    "\n",
    "openpyxl\n",
    "https://openpyxl.readthedocs.io/\n",
    "https://bitbucket.org/openpyxl/openpyxl/src\n",
    "Python library to read/write Excel 2010 xlsx/xlsm/xltx/xltm files.\n",
    "The Pandas default methond for creating xlsx files.\n",
    "\n",
    "- write\n",
    "- read\n",
    "\n",
    "xlsxwriter\n",
    "https://xlsxwriter.readthedocs.io/\n",
    "https://github.com/jmcnamara/XlsxWriter\n",
    "XlsxWriter is a Python module for writing files in the Excel 2007+ XLSX file format.\n",
    "\n",
    "- write data\n",
    "\n",
    "xlwt \n",
    "https://xlwt.readthedocs.io/\n",
    "https://github.com/python-excel/xlwt\n",
    "Simple quick / clean way to create a Excel file.  Used by Pandas as default for xls file.\n",
    "The Pandas default for creating xls files.\n",
    "\n",
    "\n",
    "- write data\n",
    "\n",
    "xlrd\n",
    "https://xlrd.readthedocs.io/\n",
    "https://github.com/python-excel/xlrd\n",
    "xlrd is a library for reading data and formatting information from OLDER Excel files, whether they are .xls or .xlsx files.\n",
    "This library currently has no active maintainers. You are advised to use OpenPyXL instead. \n",
    "\n",
    "\n",
    "xlwings\n",
    "https://docs.xlwings.org/en/stable/index.html\n",
    "Open-source and commercial products.  \n",
    "\n",
    "- write\n",
    "- read date\n"
   ]
  },
  {
   "cell_type": "code",
   "execution_count": 34,
   "metadata": {},
   "outputs": [],
   "source": [
    "from openpyxl import Workbook\n",
    "\n",
    "workbook = Workbook()\n",
    "sheet = workbook.active\n",
    "\n",
    "sheet[\"A1\"] = \"hello\"\n",
    "sheet[\"B1\"] = \"world!\"\n",
    "\n",
    "# workbook.save(filename=r'C:\\data\\tmp\\hallo-world.xlsxr')"
   ]
  },
  {
   "cell_type": "code",
   "execution_count": null,
   "metadata": {},
   "outputs": [],
   "source": []
  },
  {
   "cell_type": "code",
   "execution_count": null,
   "metadata": {},
   "outputs": [],
   "source": [
    "win32c = win32.constants"
   ]
  },
  {
   "cell_type": "code",
   "execution_count": null,
   "metadata": {},
   "outputs": [],
   "source": [
    "%load_ext blackcellmagic\n"
   ]
  },
  {
   "cell_type": "code",
   "execution_count": null,
   "metadata": {},
   "outputs": [],
   "source": [
    "print(12)"
   ]
  },
  {
   "cell_type": "code",
   "execution_count": null,
   "metadata": {},
   "outputs": [],
   "source": []
  }
 ],
 "metadata": {
  "kernelspec": {
   "display_name": "Python 3",
   "language": "python",
   "name": "python3"
  },
  "language_info": {
   "codemirror_mode": {
    "name": "ipython",
    "version": 3
   },
   "file_extension": ".py",
   "mimetype": "text/x-python",
   "name": "python",
   "nbconvert_exporter": "python",
   "pygments_lexer": "ipython3",
   "version": "3.7.6-final"
  }
 },
 "nbformat": 4,
 "nbformat_minor": 2
}