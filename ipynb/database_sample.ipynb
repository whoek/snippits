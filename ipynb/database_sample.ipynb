{
 "cells": [
  {
   "cell_type": "code",
   "execution_count": 1,
   "metadata": {
    "code_folding": [
     0
    ]
   },
   "outputs": [
    {
     "name": "stdout",
     "output_type": "stream",
     "text": [
      "     ID    Customer Billing_Address Shipping_Address\n",
      "0  1234  Customer A      123 Street            stuff\n",
      "1  1234  Customer A          Willem       333 Street\n",
      "2  1233  Customer B      444 Street       333 Street\n",
      "3  1233  Customer B      444 Street       666 Street\n"
     ]
    }
   ],
   "source": [
    "# example    \n",
    "\n",
    "import pandas as pd\n",
    "import pandasql as ps\n",
    "\n",
    "df = pd.DataFrame([[1234, 'Customer A', '123 Street', 'stuff'],\n",
    "               [1234, 'Customer A', 'Willem', '333 Street'],\n",
    "               [1233, 'Customer B', '444 Street', '333 Street'],\n",
    "              [1233, 'Customer B', '444 Street', '666 Street']],\n",
    "                  columns= ['ID', 'Customer', 'Billing_Address', 'Shipping_Address'])\n",
    "\n",
    "q1 = \"\"\"SELECT * FROM df \"\"\"\n",
    "print(ps.sqldf(q1, locals()))"
   ]
  },
  {
   "cell_type": "code",
   "execution_count": 3,
   "metadata": {},
   "outputs": [
    {
     "data": {
      "text/plain": [
       "100"
      ]
     },
     "execution_count": 3,
     "metadata": {},
     "output_type": "execute_result"
    }
   ],
   "source": [
    "import mb_va as mbva\n",
    "mbva.a\n"
   ]
  },
  {
   "cell_type": "code",
   "execution_count": 7,
   "metadata": {},
   "outputs": [
    {
     "data": {
      "text/plain": [
       "['?,?', 'AMZ', 'GOOGLE']"
      ]
     },
     "execution_count": 7,
     "metadata": {},
     "output_type": "execute_result"
    }
   ],
   "source": [
    "code_list = ['AMZ','GOOGLE']\n",
    "placeholders = \",\".join(\"?\" * len(code_list))\n",
    "sql = \"delete from dbo.Results where RESULT_ID = ? AND CODE IN (%s)\" % placeholders\n",
    "params = [placeholders]\n",
    "params.extend(code_list)\n",
    "#cursor.execute(sql, params)\n",
    "params\n",
    "#placeholders"
   ]
  },
  {
   "cell_type": "code",
   "execution_count": null,
   "metadata": {},
   "outputs": [],
   "source": []
  },
  {
   "cell_type": "code",
   "execution_count": null,
   "metadata": {},
   "outputs": [],
   "source": []
  },
  {
   "cell_type": "code",
   "execution_count": null,
   "metadata": {},
   "outputs": [],
   "source": []
  }
 ],
 "metadata": {
  "kernelspec": {
   "display_name": "Python 3",
   "language": "python",
   "name": "python3"
  },
  "language_info": {
   "codemirror_mode": {
    "name": "ipython",
    "version": 3
   },
   "file_extension": ".py",
   "mimetype": "text/x-python",
   "name": "python",
   "nbconvert_exporter": "python",
   "pygments_lexer": "ipython3",
   "version": "3.7.3"
  }
 },
 "nbformat": 4,
 "nbformat_minor": 2
}
