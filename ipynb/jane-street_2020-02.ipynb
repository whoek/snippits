{
 "cells": [
  {
   "cell_type": "raw",
   "metadata": {},
   "source": [
    "https://colab.research.google.com/drive/10lZ4dNyLSnmZkU2esBabbTZj-mqI0e7w#scrollTo=wX3PE2V_ijap"
   ]
  },
  {
   "cell_type": "code",
   "execution_count": 4,
   "metadata": {},
   "outputs": [],
   "source": [
    "import numpy as np\n",
    "import math\n",
    "\n",
    "def hit(x, y):\n",
    "    return (x < 0 and x > -1 and y > 0 and y < 1) or \\\n",
    "        (x > 1 and x <  2 and y > 0 and y < 1) or \\\n",
    "        (y < 0 and y > -1 and x > 0 and x < 1) or \\\n",
    "        (y > 1 and y <  2 and x > 0 and x < 1)\n",
    "\n",
    "def pol2cart(rho, phi ,x_start, y_start):\n",
    "    x = rho * np.cos(phi)\n",
    "    y = rho * np.sin(phi)\n",
    "    x_end = x_start + x\n",
    "    y_end = x_start + y\n",
    "    return(x_start, y_start, x_end, y_end)"
   ]
  },
  {
   "cell_type": "code",
   "execution_count": 5,
   "metadata": {},
   "outputs": [
    {
     "name": "stdout",
     "output_type": "stream",
     "text": [
      "0.75 65.56\n",
      "0.76 65.72\n",
      "0.77 66.28\n",
      "0.78 66.6\n",
      "0.79 66.36\n",
      "0.8 66.36\n",
      "0.81 66.92\n",
      "0.8200000000000001 66.48\n",
      "0.8300000000000001 66.68\n",
      "0.8400000000000001 66.72\n"
     ]
    }
   ],
   "source": [
    "SIDE_INC = 50\n",
    "RAD_STEP = 50\n",
    "\n",
    "for rpho in np.arange(0.75,0.85,0.01):\n",
    "    hit_count = 0\n",
    "    for x in range(SIDE_INC):\n",
    "        for y in range(SIDE_INC):\n",
    "            for rad in range(RAD_STEP):\n",
    "                zz = pol2cart(rpho, np.pi*2*rad/RAD_STEP, x/SIDE_INC, y/SIDE_INC)\n",
    "                a,b,c,d = zz\n",
    "                if hit(c,d):\n",
    "                    hit_count += 1\n",
    "    print(rpho, hit_count*100/(SIDE_INC*SIDE_INC*RAD_STEP))"
   ]
  },
  {
   "cell_type": "code",
   "execution_count": null,
   "metadata": {},
   "outputs": [],
   "source": []
  }
 ],
 "metadata": {
  "kernelspec": {
   "display_name": "Python 3",
   "language": "python",
   "name": "python3"
  },
  "language_info": {
   "codemirror_mode": {
    "name": "ipython",
    "version": 3
   },
   "file_extension": ".py",
   "mimetype": "text/x-python",
   "name": "python",
   "nbconvert_exporter": "python",
   "pygments_lexer": "ipython3",
   "version": "3.7.6"
  }
 },
 "nbformat": 4,
 "nbformat_minor": 2
}
