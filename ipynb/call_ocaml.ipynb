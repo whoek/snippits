{
 "cells": [
  {
   "cell_type": "markdown",
   "metadata": {},
   "source": [
    "```\n",
    "(* ocamlfind ocamlopt -o pipe1.exe -linkpkg -package unix pipe1.ml *)\n",
    "\n",
    "let a = \n",
    "  Random.self_init();\n",
    "  let rand = Random.float 1.0 in \n",
    "  let now  = Unix.gettimeofday () in\n",
    "  Format.printf \"%f       %f\" now rand\n",
    "\n",
    "```"
   ]
  },
  {
   "cell_type": "code",
   "execution_count": 250,
   "metadata": {},
   "outputs": [],
   "source": [
    "import subprocess\n",
    "def call_ext1(exe):\n",
    "    a = subprocess.run([exe,'test'],capture_output=True)   # wait for it to complete.  USE THIS FOR SIMPLICTY\n",
    "    return a.stdout   # args  returncode  stdout  stderr"
   ]
  },
  {
   "cell_type": "code",
   "execution_count": 251,
   "metadata": {},
   "outputs": [],
   "source": [
    "import subprocess\n",
    "def call_ext2(exe):\n",
    "    return subprocess.Popen(exe, shell=True, stdout=subprocess.PIPE).stdout.read() # \n"
   ]
  },
  {
   "cell_type": "code",
   "execution_count": 252,
   "metadata": {},
   "outputs": [],
   "source": [
    "import subprocess\n",
    "def call_ext3(exe):\n",
    "    return subprocess.call(exe)    # call for  versions <3.5. Wait to return. retunr code only\n"
   ]
  },
  {
   "cell_type": "code",
   "execution_count": 253,
   "metadata": {},
   "outputs": [],
   "source": [
    "import os\n",
    "def call_ext4(exe):\n",
    "    data = os.popen(exe).read()     # wait to complete before return.  Don't use OS\n",
    "    return data"
   ]
  },
  {
   "cell_type": "code",
   "execution_count": 254,
   "metadata": {},
   "outputs": [
    {
     "name": "stdout",
     "output_type": "stream",
     "text": [
      "b'1584902893.694741       0.366562'\n",
      "999 b'1584902903.591566       0.663953'\n",
      "..done\n"
     ]
    }
   ],
   "source": [
    "exe = 'C:\\data\\ocaml\\pipe-2-python\\pipe1.exe'\n",
    "print(call_ext1(exe))\n",
    "for i in range(1000):\n",
    "    a = call_ext1(exe)\n",
    "print(i,a)\n",
    "print(\"..done\")    # about 100 runs per second => 10 mS per run"
   ]
  },
  {
   "cell_type": "code",
   "execution_count": null,
   "metadata": {},
   "outputs": [],
   "source": []
  }
 ],
 "metadata": {
  "kernelspec": {
   "display_name": "Python 3",
   "language": "python",
   "name": "python3"
  },
  "language_info": {
   "codemirror_mode": {
    "name": "ipython",
    "version": 3
   },
   "file_extension": ".py",
   "mimetype": "text/x-python",
   "name": "python",
   "nbconvert_exporter": "python",
   "pygments_lexer": "ipython3",
   "version": "3.7.6"
  }
 },
 "nbformat": 4,
 "nbformat_minor": 4
}
